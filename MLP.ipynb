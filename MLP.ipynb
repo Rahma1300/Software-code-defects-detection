{
 "cells": [
  {
   "cell_type": "markdown",
   "id": "cc196e3b",
   "metadata": {},
   "source": [
    "# JM1 Dataset\n",
    "**This Dataset is provided by NASA, it is used to predict software defects. The data consists of 21 features descriping the code of the software, and the 22nd feature is the target, whether it has defects or not.**"
   ]
  },
  {
   "cell_type": "markdown",
   "id": "acf3223b",
   "metadata": {},
   "source": [
    ">***Attribute Information:***\n",
    " 1. loc                                    : numeric % McCabe's line count of code\n",
    " 2. v(g)                                  : numeric % McCabe \"cyclomatic complexity\"\n",
    " 3. ev(g)                                : numeric % McCabe \"essential complexity\"\n",
    " 4. iv(g)                                 : numeric % McCabe \"design complexity\"\n",
    " 5. n                                      : numeric % Halstead total operators + operands\n",
    " 6. v                                       : numeric % Halstead \"volume\"\n",
    " 7. l                                        : numeric % Halstead \"program length\"\n",
    " 8. d                                      : numeric % Halstead \"difficulty\"\n",
    " 9. i                                        : numeric % Halstead \"intelligence\"\n",
    " 10. e                                     : numeric % Halstead \"effort\"\n",
    " 11. b                                      : numeric % Halstead \n",
    " 12. t                                      : numeric % Halstead's time estimator\n",
    " 13. lOCode                          : numeric % Halstead's line count\n",
    " 14. lOComment                  : numeric % Halstead's count of lines of comments\n",
    " 15. lOBlank                          : numeric % Halstead's count of blank lines\n",
    " 16. lOCodeAndComment  : numeric\n",
    " 17. uniq_Op                          : numeric % unique operators\n",
    " 18. uniq_Opnd                     : numeric % unique operands\n",
    " 19. total_Op                         : numeric % total operators\n",
    " 20. total_Opnd                    : numeric % total operands\n",
    " 21. branchCount                 : numeric % of the flow graph\n",
    " 22. defects                          : {false,true} % module has/has not one or more reported defects"
   ]
  },
  {
   "cell_type": "markdown",
   "id": "34454740",
   "metadata": {},
   "source": [
    "**Source:**<br>\n",
    "https://www.openml.org/search?type=data&sort=runs&id=1053&status=active "
   ]
  },
  {
   "cell_type": "code",
   "execution_count": 1,
   "id": "8695cb54",
   "metadata": {},
   "outputs": [],
   "source": [
    "import pandas as pd\n",
    "import numpy as np\n",
    "import matplotlib.pyplot  as plt\n",
    "import seaborn as sns\n",
    "from sklearn.model_selection import train_test_split\n",
    "from sklearn.preprocessing import StandardScaler\n",
    "from sklearn.utils import resample\n",
    "import numpy as np\n",
    "import pandas as pd\n",
    "import matplotlib.pyplot as plt\n",
    "import tensorflow as tf\n",
    "from IPython.display import Image, clear_output\n",
    "import keras_tuner\n",
    "from sklearn.model_selection import learning_curve\n",
    "from sklearn.neural_network import MLPClassifier\n",
    "from sklearn.metrics import plot_confusion_matrix\n",
    "from sklearn.metrics import classification_report\n",
    "import warnings\n",
    "warnings.filterwarnings(\"ignore\")"
   ]
  },
  {
   "cell_type": "code",
   "execution_count": 2,
   "id": "81bb9603",
   "metadata": {},
   "outputs": [
    {
     "data": {
      "text/plain": [
       "(10885, 22)"
      ]
     },
     "execution_count": 2,
     "metadata": {},
     "output_type": "execute_result"
    }
   ],
   "source": [
    "df = pd.read_csv('jm1_csv.csv')\n",
    "df.shape"
   ]
  },
  {
   "cell_type": "code",
   "execution_count": 3,
   "id": "3a64de77",
   "metadata": {},
   "outputs": [
    {
     "data": {
      "text/html": [
       "<div>\n",
       "<style scoped>\n",
       "    .dataframe tbody tr th:only-of-type {\n",
       "        vertical-align: middle;\n",
       "    }\n",
       "\n",
       "    .dataframe tbody tr th {\n",
       "        vertical-align: top;\n",
       "    }\n",
       "\n",
       "    .dataframe thead th {\n",
       "        text-align: right;\n",
       "    }\n",
       "</style>\n",
       "<table border=\"1\" class=\"dataframe\">\n",
       "  <thead>\n",
       "    <tr style=\"text-align: right;\">\n",
       "      <th></th>\n",
       "      <th>loc</th>\n",
       "      <th>v(g)</th>\n",
       "      <th>ev(g)</th>\n",
       "      <th>iv(g)</th>\n",
       "      <th>n</th>\n",
       "      <th>v</th>\n",
       "      <th>l</th>\n",
       "      <th>d</th>\n",
       "      <th>i</th>\n",
       "      <th>e</th>\n",
       "      <th>...</th>\n",
       "      <th>lOCode</th>\n",
       "      <th>lOComment</th>\n",
       "      <th>lOBlank</th>\n",
       "      <th>locCodeAndComment</th>\n",
       "      <th>uniq_Op</th>\n",
       "      <th>uniq_Opnd</th>\n",
       "      <th>total_Op</th>\n",
       "      <th>total_Opnd</th>\n",
       "      <th>branchCount</th>\n",
       "      <th>defects</th>\n",
       "    </tr>\n",
       "  </thead>\n",
       "  <tbody>\n",
       "    <tr>\n",
       "      <th>0</th>\n",
       "      <td>1.1</td>\n",
       "      <td>1.4</td>\n",
       "      <td>1.4</td>\n",
       "      <td>1.4</td>\n",
       "      <td>1.3</td>\n",
       "      <td>1.30</td>\n",
       "      <td>1.30</td>\n",
       "      <td>1.30</td>\n",
       "      <td>1.30</td>\n",
       "      <td>1.30</td>\n",
       "      <td>...</td>\n",
       "      <td>2</td>\n",
       "      <td>2</td>\n",
       "      <td>2</td>\n",
       "      <td>2</td>\n",
       "      <td>1.2</td>\n",
       "      <td>1.2</td>\n",
       "      <td>1.2</td>\n",
       "      <td>1.2</td>\n",
       "      <td>1.4</td>\n",
       "      <td>False</td>\n",
       "    </tr>\n",
       "    <tr>\n",
       "      <th>1</th>\n",
       "      <td>1.0</td>\n",
       "      <td>1.0</td>\n",
       "      <td>1.0</td>\n",
       "      <td>1.0</td>\n",
       "      <td>1.0</td>\n",
       "      <td>1.00</td>\n",
       "      <td>1.00</td>\n",
       "      <td>1.00</td>\n",
       "      <td>1.00</td>\n",
       "      <td>1.00</td>\n",
       "      <td>...</td>\n",
       "      <td>1</td>\n",
       "      <td>1</td>\n",
       "      <td>1</td>\n",
       "      <td>1</td>\n",
       "      <td>1.0</td>\n",
       "      <td>1.0</td>\n",
       "      <td>1.0</td>\n",
       "      <td>1.0</td>\n",
       "      <td>1.0</td>\n",
       "      <td>True</td>\n",
       "    </tr>\n",
       "    <tr>\n",
       "      <th>2</th>\n",
       "      <td>72.0</td>\n",
       "      <td>7.0</td>\n",
       "      <td>1.0</td>\n",
       "      <td>6.0</td>\n",
       "      <td>198.0</td>\n",
       "      <td>1134.13</td>\n",
       "      <td>0.05</td>\n",
       "      <td>20.31</td>\n",
       "      <td>55.85</td>\n",
       "      <td>23029.10</td>\n",
       "      <td>...</td>\n",
       "      <td>51</td>\n",
       "      <td>10</td>\n",
       "      <td>8</td>\n",
       "      <td>1</td>\n",
       "      <td>17.0</td>\n",
       "      <td>36.0</td>\n",
       "      <td>112.0</td>\n",
       "      <td>86.0</td>\n",
       "      <td>13.0</td>\n",
       "      <td>True</td>\n",
       "    </tr>\n",
       "    <tr>\n",
       "      <th>3</th>\n",
       "      <td>190.0</td>\n",
       "      <td>3.0</td>\n",
       "      <td>1.0</td>\n",
       "      <td>3.0</td>\n",
       "      <td>600.0</td>\n",
       "      <td>4348.76</td>\n",
       "      <td>0.06</td>\n",
       "      <td>17.06</td>\n",
       "      <td>254.87</td>\n",
       "      <td>74202.67</td>\n",
       "      <td>...</td>\n",
       "      <td>129</td>\n",
       "      <td>29</td>\n",
       "      <td>28</td>\n",
       "      <td>2</td>\n",
       "      <td>17.0</td>\n",
       "      <td>135.0</td>\n",
       "      <td>329.0</td>\n",
       "      <td>271.0</td>\n",
       "      <td>5.0</td>\n",
       "      <td>True</td>\n",
       "    </tr>\n",
       "    <tr>\n",
       "      <th>4</th>\n",
       "      <td>37.0</td>\n",
       "      <td>4.0</td>\n",
       "      <td>1.0</td>\n",
       "      <td>4.0</td>\n",
       "      <td>126.0</td>\n",
       "      <td>599.12</td>\n",
       "      <td>0.06</td>\n",
       "      <td>17.19</td>\n",
       "      <td>34.86</td>\n",
       "      <td>10297.30</td>\n",
       "      <td>...</td>\n",
       "      <td>28</td>\n",
       "      <td>1</td>\n",
       "      <td>6</td>\n",
       "      <td>0</td>\n",
       "      <td>11.0</td>\n",
       "      <td>16.0</td>\n",
       "      <td>76.0</td>\n",
       "      <td>50.0</td>\n",
       "      <td>7.0</td>\n",
       "      <td>True</td>\n",
       "    </tr>\n",
       "  </tbody>\n",
       "</table>\n",
       "<p>5 rows × 22 columns</p>\n",
       "</div>"
      ],
      "text/plain": [
       "     loc  v(g)  ev(g)  iv(g)      n        v     l      d       i         e  \\\n",
       "0    1.1   1.4    1.4    1.4    1.3     1.30  1.30   1.30    1.30      1.30   \n",
       "1    1.0   1.0    1.0    1.0    1.0     1.00  1.00   1.00    1.00      1.00   \n",
       "2   72.0   7.0    1.0    6.0  198.0  1134.13  0.05  20.31   55.85  23029.10   \n",
       "3  190.0   3.0    1.0    3.0  600.0  4348.76  0.06  17.06  254.87  74202.67   \n",
       "4   37.0   4.0    1.0    4.0  126.0   599.12  0.06  17.19   34.86  10297.30   \n",
       "\n",
       "   ...  lOCode  lOComment  lOBlank  locCodeAndComment  uniq_Op  uniq_Opnd  \\\n",
       "0  ...       2          2        2                  2      1.2        1.2   \n",
       "1  ...       1          1        1                  1      1.0        1.0   \n",
       "2  ...      51         10        8                  1     17.0       36.0   \n",
       "3  ...     129         29       28                  2     17.0      135.0   \n",
       "4  ...      28          1        6                  0     11.0       16.0   \n",
       "\n",
       "   total_Op  total_Opnd  branchCount  defects  \n",
       "0       1.2         1.2          1.4    False  \n",
       "1       1.0         1.0          1.0     True  \n",
       "2     112.0        86.0         13.0     True  \n",
       "3     329.0       271.0          5.0     True  \n",
       "4      76.0        50.0          7.0     True  \n",
       "\n",
       "[5 rows x 22 columns]"
      ]
     },
     "execution_count": 3,
     "metadata": {},
     "output_type": "execute_result"
    }
   ],
   "source": [
    "df.head()"
   ]
  },
  {
   "cell_type": "code",
   "execution_count": 4,
   "id": "c7910141",
   "metadata": {},
   "outputs": [
    {
     "data": {
      "text/plain": [
       "loc                  float64\n",
       "v(g)                 float64\n",
       "ev(g)                float64\n",
       "iv(g)                float64\n",
       "n                    float64\n",
       "v                    float64\n",
       "l                    float64\n",
       "d                    float64\n",
       "i                    float64\n",
       "e                    float64\n",
       "b                    float64\n",
       "t                    float64\n",
       "lOCode                 int64\n",
       "lOComment              int64\n",
       "lOBlank                int64\n",
       "locCodeAndComment      int64\n",
       "uniq_Op              float64\n",
       "uniq_Opnd            float64\n",
       "total_Op             float64\n",
       "total_Opnd           float64\n",
       "branchCount          float64\n",
       "defects                 bool\n",
       "dtype: object"
      ]
     },
     "execution_count": 4,
     "metadata": {},
     "output_type": "execute_result"
    }
   ],
   "source": [
    "df.dtypes"
   ]
  },
  {
   "cell_type": "code",
   "execution_count": 5,
   "id": "8be9d958",
   "metadata": {},
   "outputs": [
    {
     "data": {
      "text/plain": [
       "loc                  float64\n",
       "v(g)                 float64\n",
       "ev(g)                float64\n",
       "iv(g)                float64\n",
       "n                    float64\n",
       "v                    float64\n",
       "l                    float64\n",
       "d                    float64\n",
       "i                    float64\n",
       "e                    float64\n",
       "b                    float64\n",
       "t                    float64\n",
       "lOCode                 int64\n",
       "lOComment              int64\n",
       "lOBlank                int64\n",
       "locCodeAndComment      int64\n",
       "uniq_Op              float64\n",
       "uniq_Opnd            float64\n",
       "total_Op             float64\n",
       "total_Opnd           float64\n",
       "branchCount          float64\n",
       "defects              float64\n",
       "dtype: object"
      ]
     },
     "execution_count": 5,
     "metadata": {},
     "output_type": "execute_result"
    }
   ],
   "source": [
    "#converting the target class to 1 and 0 instead of true/false\n",
    "\n",
    "df['defects'] = df['defects'].astype('float')\n",
    "df.dtypes"
   ]
  },
  {
   "cell_type": "code",
   "execution_count": 6,
   "id": "26bb3c79",
   "metadata": {},
   "outputs": [
    {
     "data": {
      "text/plain": [
       "loc                  0\n",
       "v(g)                 0\n",
       "ev(g)                0\n",
       "iv(g)                0\n",
       "n                    0\n",
       "v                    0\n",
       "l                    0\n",
       "d                    0\n",
       "i                    0\n",
       "e                    0\n",
       "b                    0\n",
       "t                    0\n",
       "lOCode               0\n",
       "lOComment            0\n",
       "lOBlank              0\n",
       "locCodeAndComment    0\n",
       "uniq_Op              5\n",
       "uniq_Opnd            5\n",
       "total_Op             5\n",
       "total_Opnd           5\n",
       "branchCount          5\n",
       "defects              0\n",
       "dtype: int64"
      ]
     },
     "execution_count": 6,
     "metadata": {},
     "output_type": "execute_result"
    }
   ],
   "source": [
    "# checking for null values\n",
    "df.isnull().sum()"
   ]
  },
  {
   "cell_type": "code",
   "execution_count": 7,
   "id": "3a485611",
   "metadata": {},
   "outputs": [],
   "source": [
    "# removing rows with null values\n",
    "df.dropna(axis = 0, inplace = True)"
   ]
  },
  {
   "cell_type": "code",
   "execution_count": 8,
   "id": "2fa5ae9e",
   "metadata": {},
   "outputs": [
    {
     "data": {
      "image/png": "[encoded data removed]",
      "text/plain": [
       "<Figure size 1440x720 with 2 Axes>"
      ]
     },
     "metadata": {
      "needs_background": "light"
     },
     "output_type": "display_data"
    }
   ],
   "source": [
    "f, ax = plt.subplots(figsize=(20, 10))\n",
    "corr = df.corr()\n",
    "sns.heatmap(corr, mask=np.zeros_like(corr, dtype=np.bool), cmap=sns.diverging_palette(220, 10, as_cmap=True), annot = True, square=True, ax=ax)\n",
    "plt.title('The Correlation Between Features')\n",
    "plt.show()"
   ]
  },
  {
   "cell_type": "code",
   "execution_count": 9,
   "id": "1c6b27d6",
   "metadata": {},
   "outputs": [
    {
     "data": {
      "image/png": "[encoded data removed]",
      "text/plain": [
       "<Figure size 432x288 with 1 Axes>"
      ]
     },
     "metadata": {
      "needs_background": "light"
     },
     "output_type": "display_data"
    },
    {
     "name": "stdout",
     "output_type": "stream",
     "text": [
      "0.0    8777\n",
      "1.0    2103\n",
      "Name: defects, dtype: int64\n"
     ]
    }
   ],
   "source": [
    "# counting how many instances in each class\n",
    "classDist = df['defects'].value_counts().plot(kind = 'bar', color= ['purple'],title = 'Class distribution' )\n",
    "classDist.set_ylabel(\"Number of instaces\",fontsize=14)\n",
    "plt.show()\n",
    "\n",
    "# printing the exact number of instances in each class\n",
    "print (df['defects'].value_counts())"
   ]
  },
  {
   "cell_type": "code",
   "execution_count": 10,
   "id": "2bab5ed9",
   "metadata": {},
   "outputs": [],
   "source": [
    "# spplitting the data into features and target class\n",
    "\n",
    "x = df.iloc[:,:-1]\n",
    "y=df['defects']"
   ]
  },
  {
   "cell_type": "code",
   "execution_count": 11,
   "id": "81e59535",
   "metadata": {},
   "outputs": [
    {
     "name": "stdout",
     "output_type": "stream",
     "text": [
      "Training set has 8704 samples.\n",
      "Testing set has 2176 samples.\n"
     ]
    }
   ],
   "source": [
    "x_train,x_test,y_train,y_test = train_test_split(x, y, test_size = 0.2, random_state=42)\n",
    "\n",
    "print(\"Training set has {} samples.\".format(x_train.shape[0]))\n",
    "print(\"Testing set has {} samples.\".format(x_test.shape[0]))"
   ]
  },
  {
   "cell_type": "code",
   "execution_count": 12,
   "id": "4e8f37f2",
   "metadata": {},
   "outputs": [],
   "source": [
    "sc = StandardScaler()\n",
    "x_train = sc.fit_transform(x_train)\n",
    "x_test = sc.transform(x_test)"
   ]
  },
  {
   "cell_type": "markdown",
   "id": "26590117",
   "metadata": {},
   "source": [
    "### Handling data imbalance\n",
    "**Since our class distribution is very skewd, this may affect the results of the models, therfore, we will perform upsampling to solve this by taking as many instances of the minority class as much as the majority class, to make it balanced.**"
   ]
  },
  {
   "cell_type": "code",
   "execution_count": 13,
   "id": "18ab4983",
   "metadata": {},
   "outputs": [],
   "source": [
    "x_train2,x_test2,y_train2,y_test2 = train_test_split(x, y, test_size = 0.2, random_state=42)\n",
    "# concatenate training data back together\n",
    "train = pd.concat([x_train2, y_train2], axis=1)\n",
    "\n",
    "# separate minority and majority classes\n",
    "not_defected = train[train.defects==0]\n",
    "defected = train[train.defects==1]"
   ]
  },
  {
   "cell_type": "code",
   "execution_count": 14,
   "id": "d877b356",
   "metadata": {},
   "outputs": [
    {
     "data": {
      "image/png": "[encoded data removed]",
      "text/plain": [
       "<Figure size 432x288 with 1 Axes>"
      ]
     },
     "metadata": {
      "needs_background": "light"
     },
     "output_type": "display_data"
    }
   ],
   "source": [
    "# upsample minority\n",
    "defected_upsampled = resample(defected,\n",
    "                          replace=True,\n",
    "                          n_samples=len(not_defected), # match number in majority class\n",
    "                          random_state=42) # reproducible results\n",
    "\n",
    "upsampled = pd.concat([not_defected, defected_upsampled])\n",
    "# check new class distribution\n",
    "classDist = upsampled['defects'].value_counts().plot(kind = 'bar', color= ['purple'],title = 'Class distribution' )\n",
    "classDist.set_ylabel(\"Number of instaces\",fontsize=14)\n",
    "plt.show()"
   ]
  },
  {
   "cell_type": "code",
   "execution_count": 15,
   "id": "ad73e956",
   "metadata": {},
   "outputs": [
    {
     "data": {
      "text/plain": [
       "(14040, 22)"
      ]
     },
     "execution_count": 15,
     "metadata": {},
     "output_type": "execute_result"
    }
   ],
   "source": [
    "upsampled.shape"
   ]
  },
  {
   "cell_type": "code",
   "execution_count": 16,
   "id": "7fc612b7",
   "metadata": {},
   "outputs": [
    {
     "data": {
      "text/html": [
       "<div>\n",
       "<style scoped>\n",
       "    .dataframe tbody tr th:only-of-type {\n",
       "        vertical-align: middle;\n",
       "    }\n",
       "\n",
       "    .dataframe tbody tr th {\n",
       "        vertical-align: top;\n",
       "    }\n",
       "\n",
       "    .dataframe thead th {\n",
       "        text-align: right;\n",
       "    }\n",
       "</style>\n",
       "<table border=\"1\" class=\"dataframe\">\n",
       "  <thead>\n",
       "    <tr style=\"text-align: right;\">\n",
       "      <th></th>\n",
       "      <th>loc</th>\n",
       "      <th>v(g)</th>\n",
       "      <th>ev(g)</th>\n",
       "      <th>iv(g)</th>\n",
       "      <th>n</th>\n",
       "      <th>v</th>\n",
       "      <th>l</th>\n",
       "      <th>d</th>\n",
       "      <th>i</th>\n",
       "      <th>e</th>\n",
       "      <th>...</th>\n",
       "      <th>lOCode</th>\n",
       "      <th>lOComment</th>\n",
       "      <th>lOBlank</th>\n",
       "      <th>locCodeAndComment</th>\n",
       "      <th>uniq_Op</th>\n",
       "      <th>uniq_Opnd</th>\n",
       "      <th>total_Op</th>\n",
       "      <th>total_Opnd</th>\n",
       "      <th>branchCount</th>\n",
       "      <th>defects</th>\n",
       "    </tr>\n",
       "  </thead>\n",
       "  <tbody>\n",
       "    <tr>\n",
       "      <th>5528</th>\n",
       "      <td>4.0</td>\n",
       "      <td>1.0</td>\n",
       "      <td>1.0</td>\n",
       "      <td>1.0</td>\n",
       "      <td>6.0</td>\n",
       "      <td>15.51</td>\n",
       "      <td>0.40</td>\n",
       "      <td>2.50</td>\n",
       "      <td>6.20</td>\n",
       "      <td>38.77</td>\n",
       "      <td>...</td>\n",
       "      <td>2</td>\n",
       "      <td>0</td>\n",
       "      <td>0</td>\n",
       "      <td>0</td>\n",
       "      <td>5.0</td>\n",
       "      <td>1.0</td>\n",
       "      <td>5.0</td>\n",
       "      <td>1.0</td>\n",
       "      <td>1.0</td>\n",
       "      <td>0.0</td>\n",
       "    </tr>\n",
       "    <tr>\n",
       "      <th>8694</th>\n",
       "      <td>13.0</td>\n",
       "      <td>3.0</td>\n",
       "      <td>1.0</td>\n",
       "      <td>1.0</td>\n",
       "      <td>29.0</td>\n",
       "      <td>123.19</td>\n",
       "      <td>0.08</td>\n",
       "      <td>11.92</td>\n",
       "      <td>10.34</td>\n",
       "      <td>1468.01</td>\n",
       "      <td>...</td>\n",
       "      <td>8</td>\n",
       "      <td>1</td>\n",
       "      <td>1</td>\n",
       "      <td>0</td>\n",
       "      <td>13.0</td>\n",
       "      <td>6.0</td>\n",
       "      <td>18.0</td>\n",
       "      <td>11.0</td>\n",
       "      <td>5.0</td>\n",
       "      <td>0.0</td>\n",
       "    </tr>\n",
       "    <tr>\n",
       "      <th>10794</th>\n",
       "      <td>24.0</td>\n",
       "      <td>3.0</td>\n",
       "      <td>1.0</td>\n",
       "      <td>2.0</td>\n",
       "      <td>53.0</td>\n",
       "      <td>236.35</td>\n",
       "      <td>0.10</td>\n",
       "      <td>10.50</td>\n",
       "      <td>22.51</td>\n",
       "      <td>2481.67</td>\n",
       "      <td>...</td>\n",
       "      <td>19</td>\n",
       "      <td>0</td>\n",
       "      <td>3</td>\n",
       "      <td>0</td>\n",
       "      <td>11.0</td>\n",
       "      <td>11.0</td>\n",
       "      <td>32.0</td>\n",
       "      <td>21.0</td>\n",
       "      <td>5.0</td>\n",
       "      <td>0.0</td>\n",
       "    </tr>\n",
       "    <tr>\n",
       "      <th>4954</th>\n",
       "      <td>65.0</td>\n",
       "      <td>16.0</td>\n",
       "      <td>1.0</td>\n",
       "      <td>6.0</td>\n",
       "      <td>0.0</td>\n",
       "      <td>0.00</td>\n",
       "      <td>0.00</td>\n",
       "      <td>0.00</td>\n",
       "      <td>0.00</td>\n",
       "      <td>0.00</td>\n",
       "      <td>...</td>\n",
       "      <td>0</td>\n",
       "      <td>0</td>\n",
       "      <td>0</td>\n",
       "      <td>0</td>\n",
       "      <td>0.0</td>\n",
       "      <td>0.0</td>\n",
       "      <td>0.0</td>\n",
       "      <td>0.0</td>\n",
       "      <td>31.0</td>\n",
       "      <td>0.0</td>\n",
       "    </tr>\n",
       "    <tr>\n",
       "      <th>6181</th>\n",
       "      <td>33.0</td>\n",
       "      <td>10.0</td>\n",
       "      <td>1.0</td>\n",
       "      <td>7.0</td>\n",
       "      <td>142.0</td>\n",
       "      <td>739.74</td>\n",
       "      <td>0.03</td>\n",
       "      <td>30.59</td>\n",
       "      <td>24.18</td>\n",
       "      <td>22627.41</td>\n",
       "      <td>...</td>\n",
       "      <td>26</td>\n",
       "      <td>0</td>\n",
       "      <td>5</td>\n",
       "      <td>0</td>\n",
       "      <td>20.0</td>\n",
       "      <td>17.0</td>\n",
       "      <td>90.0</td>\n",
       "      <td>52.0</td>\n",
       "      <td>19.0</td>\n",
       "      <td>0.0</td>\n",
       "    </tr>\n",
       "  </tbody>\n",
       "</table>\n",
       "<p>5 rows × 22 columns</p>\n",
       "</div>"
      ],
      "text/plain": [
       "        loc  v(g)  ev(g)  iv(g)      n       v     l      d      i         e  \\\n",
       "5528    4.0   1.0    1.0    1.0    6.0   15.51  0.40   2.50   6.20     38.77   \n",
       "8694   13.0   3.0    1.0    1.0   29.0  123.19  0.08  11.92  10.34   1468.01   \n",
       "10794  24.0   3.0    1.0    2.0   53.0  236.35  0.10  10.50  22.51   2481.67   \n",
       "4954   65.0  16.0    1.0    6.0    0.0    0.00  0.00   0.00   0.00      0.00   \n",
       "6181   33.0  10.0    1.0    7.0  142.0  739.74  0.03  30.59  24.18  22627.41   \n",
       "\n",
       "       ...  lOCode  lOComment  lOBlank  locCodeAndComment  uniq_Op  uniq_Opnd  \\\n",
       "5528   ...       2          0        0                  0      5.0        1.0   \n",
       "8694   ...       8          1        1                  0     13.0        6.0   \n",
       "10794  ...      19          0        3                  0     11.0       11.0   \n",
       "4954   ...       0          0        0                  0      0.0        0.0   \n",
       "6181   ...      26          0        5                  0     20.0       17.0   \n",
       "\n",
       "       total_Op  total_Opnd  branchCount  defects  \n",
       "5528        5.0         1.0          1.0      0.0  \n",
       "8694       18.0        11.0          5.0      0.0  \n",
       "10794      32.0        21.0          5.0      0.0  \n",
       "4954        0.0         0.0         31.0      0.0  \n",
       "6181       90.0        52.0         19.0      0.0  \n",
       "\n",
       "[5 rows x 22 columns]"
      ]
     },
     "execution_count": 16,
     "metadata": {},
     "output_type": "execute_result"
    }
   ],
   "source": [
    "upsampled.head()"
   ]
  },
  {
   "cell_type": "code",
   "execution_count": 17,
   "id": "45b41ebf",
   "metadata": {},
   "outputs": [],
   "source": [
    "# exporting the new clean dataset to a csv file to be used in training the networks\n",
    "\n",
    "from pathlib import Path  \n",
    "filepath = Path(f'./newDataset.csv')  \n",
    "filepath.parent.mkdir(parents=True, exist_ok=True)  \n",
    "upsampled.to_csv(filepath)  "
   ]
  },
  {
   "cell_type": "markdown",
   "id": "b780a5ac",
   "metadata": {},
   "source": [
    "<h2>Multilayer perceptron"
   ]
  },
  {
   "cell_type": "code",
   "execution_count": 18,
   "id": "f1582bbb",
   "metadata": {},
   "outputs": [
    {
     "data": {
      "text/html": [
       "<div>\n",
       "<style scoped>\n",
       "    .dataframe tbody tr th:only-of-type {\n",
       "        vertical-align: middle;\n",
       "    }\n",
       "\n",
       "    .dataframe tbody tr th {\n",
       "        vertical-align: top;\n",
       "    }\n",
       "\n",
       "    .dataframe thead th {\n",
       "        text-align: right;\n",
       "    }\n",
       "</style>\n",
       "<table border=\"1\" class=\"dataframe\">\n",
       "  <thead>\n",
       "    <tr style=\"text-align: right;\">\n",
       "      <th></th>\n",
       "      <th>Unnamed: 0</th>\n",
       "      <th>loc</th>\n",
       "      <th>v(g)</th>\n",
       "      <th>ev(g)</th>\n",
       "      <th>iv(g)</th>\n",
       "      <th>n</th>\n",
       "      <th>v</th>\n",
       "      <th>l</th>\n",
       "      <th>d</th>\n",
       "      <th>i</th>\n",
       "      <th>...</th>\n",
       "      <th>lOCode</th>\n",
       "      <th>lOComment</th>\n",
       "      <th>lOBlank</th>\n",
       "      <th>locCodeAndComment</th>\n",
       "      <th>uniq_Op</th>\n",
       "      <th>uniq_Opnd</th>\n",
       "      <th>total_Op</th>\n",
       "      <th>total_Opnd</th>\n",
       "      <th>branchCount</th>\n",
       "      <th>defects</th>\n",
       "    </tr>\n",
       "  </thead>\n",
       "  <tbody>\n",
       "    <tr>\n",
       "      <th>0</th>\n",
       "      <td>5528</td>\n",
       "      <td>4.0</td>\n",
       "      <td>1.0</td>\n",
       "      <td>1.0</td>\n",
       "      <td>1.0</td>\n",
       "      <td>6.0</td>\n",
       "      <td>15.51</td>\n",
       "      <td>0.40</td>\n",
       "      <td>2.50</td>\n",
       "      <td>6.20</td>\n",
       "      <td>...</td>\n",
       "      <td>2</td>\n",
       "      <td>0</td>\n",
       "      <td>0</td>\n",
       "      <td>0</td>\n",
       "      <td>5.0</td>\n",
       "      <td>1.0</td>\n",
       "      <td>5.0</td>\n",
       "      <td>1.0</td>\n",
       "      <td>1.0</td>\n",
       "      <td>0.0</td>\n",
       "    </tr>\n",
       "    <tr>\n",
       "      <th>1</th>\n",
       "      <td>8694</td>\n",
       "      <td>13.0</td>\n",
       "      <td>3.0</td>\n",
       "      <td>1.0</td>\n",
       "      <td>1.0</td>\n",
       "      <td>29.0</td>\n",
       "      <td>123.19</td>\n",
       "      <td>0.08</td>\n",
       "      <td>11.92</td>\n",
       "      <td>10.34</td>\n",
       "      <td>...</td>\n",
       "      <td>8</td>\n",
       "      <td>1</td>\n",
       "      <td>1</td>\n",
       "      <td>0</td>\n",
       "      <td>13.0</td>\n",
       "      <td>6.0</td>\n",
       "      <td>18.0</td>\n",
       "      <td>11.0</td>\n",
       "      <td>5.0</td>\n",
       "      <td>0.0</td>\n",
       "    </tr>\n",
       "    <tr>\n",
       "      <th>2</th>\n",
       "      <td>10794</td>\n",
       "      <td>24.0</td>\n",
       "      <td>3.0</td>\n",
       "      <td>1.0</td>\n",
       "      <td>2.0</td>\n",
       "      <td>53.0</td>\n",
       "      <td>236.35</td>\n",
       "      <td>0.10</td>\n",
       "      <td>10.50</td>\n",
       "      <td>22.51</td>\n",
       "      <td>...</td>\n",
       "      <td>19</td>\n",
       "      <td>0</td>\n",
       "      <td>3</td>\n",
       "      <td>0</td>\n",
       "      <td>11.0</td>\n",
       "      <td>11.0</td>\n",
       "      <td>32.0</td>\n",
       "      <td>21.0</td>\n",
       "      <td>5.0</td>\n",
       "      <td>0.0</td>\n",
       "    </tr>\n",
       "    <tr>\n",
       "      <th>3</th>\n",
       "      <td>4954</td>\n",
       "      <td>65.0</td>\n",
       "      <td>16.0</td>\n",
       "      <td>1.0</td>\n",
       "      <td>6.0</td>\n",
       "      <td>0.0</td>\n",
       "      <td>0.00</td>\n",
       "      <td>0.00</td>\n",
       "      <td>0.00</td>\n",
       "      <td>0.00</td>\n",
       "      <td>...</td>\n",
       "      <td>0</td>\n",
       "      <td>0</td>\n",
       "      <td>0</td>\n",
       "      <td>0</td>\n",
       "      <td>0.0</td>\n",
       "      <td>0.0</td>\n",
       "      <td>0.0</td>\n",
       "      <td>0.0</td>\n",
       "      <td>31.0</td>\n",
       "      <td>0.0</td>\n",
       "    </tr>\n",
       "    <tr>\n",
       "      <th>4</th>\n",
       "      <td>6181</td>\n",
       "      <td>33.0</td>\n",
       "      <td>10.0</td>\n",
       "      <td>1.0</td>\n",
       "      <td>7.0</td>\n",
       "      <td>142.0</td>\n",
       "      <td>739.74</td>\n",
       "      <td>0.03</td>\n",
       "      <td>30.59</td>\n",
       "      <td>24.18</td>\n",
       "      <td>...</td>\n",
       "      <td>26</td>\n",
       "      <td>0</td>\n",
       "      <td>5</td>\n",
       "      <td>0</td>\n",
       "      <td>20.0</td>\n",
       "      <td>17.0</td>\n",
       "      <td>90.0</td>\n",
       "      <td>52.0</td>\n",
       "      <td>19.0</td>\n",
       "      <td>0.0</td>\n",
       "    </tr>\n",
       "  </tbody>\n",
       "</table>\n",
       "<p>5 rows × 23 columns</p>\n",
       "</div>"
      ],
      "text/plain": [
       "   Unnamed: 0   loc  v(g)  ev(g)  iv(g)      n       v     l      d      i  \\\n",
       "0        5528   4.0   1.0    1.0    1.0    6.0   15.51  0.40   2.50   6.20   \n",
       "1        8694  13.0   3.0    1.0    1.0   29.0  123.19  0.08  11.92  10.34   \n",
       "2       10794  24.0   3.0    1.0    2.0   53.0  236.35  0.10  10.50  22.51   \n",
       "3        4954  65.0  16.0    1.0    6.0    0.0    0.00  0.00   0.00   0.00   \n",
       "4        6181  33.0  10.0    1.0    7.0  142.0  739.74  0.03  30.59  24.18   \n",
       "\n",
       "   ...  lOCode  lOComment  lOBlank  locCodeAndComment  uniq_Op  uniq_Opnd  \\\n",
       "0  ...       2          0        0                  0      5.0        1.0   \n",
       "1  ...       8          1        1                  0     13.0        6.0   \n",
       "2  ...      19          0        3                  0     11.0       11.0   \n",
       "3  ...       0          0        0                  0      0.0        0.0   \n",
       "4  ...      26          0        5                  0     20.0       17.0   \n",
       "\n",
       "   total_Op  total_Opnd  branchCount  defects  \n",
       "0       5.0         1.0          1.0      0.0  \n",
       "1      18.0        11.0          5.0      0.0  \n",
       "2      32.0        21.0          5.0      0.0  \n",
       "3       0.0         0.0         31.0      0.0  \n",
       "4      90.0        52.0         19.0      0.0  \n",
       "\n",
       "[5 rows x 23 columns]"
      ]
     },
     "execution_count": 18,
     "metadata": {},
     "output_type": "execute_result"
    }
   ],
   "source": [
    "df3 = pd.read_csv('newDataset.csv')\n",
    "df3.head()"
   ]
  },
  {
   "cell_type": "code",
   "execution_count": 19,
   "id": "2bb7937a",
   "metadata": {},
   "outputs": [],
   "source": [
    "df3.drop('Unnamed: 0', axis = 1, inplace = True)"
   ]
  },
  {
   "cell_type": "code",
   "execution_count": 20,
   "id": "7789ed7a",
   "metadata": {},
   "outputs": [
    {
     "data": {
      "text/html": [
       "<div>\n",
       "<style scoped>\n",
       "    .dataframe tbody tr th:only-of-type {\n",
       "        vertical-align: middle;\n",
       "    }\n",
       "\n",
       "    .dataframe tbody tr th {\n",
       "        vertical-align: top;\n",
       "    }\n",
       "\n",
       "    .dataframe thead th {\n",
       "        text-align: right;\n",
       "    }\n",
       "</style>\n",
       "<table border=\"1\" class=\"dataframe\">\n",
       "  <thead>\n",
       "    <tr style=\"text-align: right;\">\n",
       "      <th></th>\n",
       "      <th>loc</th>\n",
       "      <th>v(g)</th>\n",
       "      <th>ev(g)</th>\n",
       "      <th>iv(g)</th>\n",
       "      <th>n</th>\n",
       "      <th>v</th>\n",
       "      <th>l</th>\n",
       "      <th>d</th>\n",
       "      <th>i</th>\n",
       "      <th>e</th>\n",
       "      <th>...</th>\n",
       "      <th>lOCode</th>\n",
       "      <th>lOComment</th>\n",
       "      <th>lOBlank</th>\n",
       "      <th>locCodeAndComment</th>\n",
       "      <th>uniq_Op</th>\n",
       "      <th>uniq_Opnd</th>\n",
       "      <th>total_Op</th>\n",
       "      <th>total_Opnd</th>\n",
       "      <th>branchCount</th>\n",
       "      <th>defects</th>\n",
       "    </tr>\n",
       "  </thead>\n",
       "  <tbody>\n",
       "    <tr>\n",
       "      <th>0</th>\n",
       "      <td>4.0</td>\n",
       "      <td>1.0</td>\n",
       "      <td>1.0</td>\n",
       "      <td>1.0</td>\n",
       "      <td>6.0</td>\n",
       "      <td>15.51</td>\n",
       "      <td>0.40</td>\n",
       "      <td>2.50</td>\n",
       "      <td>6.20</td>\n",
       "      <td>38.77</td>\n",
       "      <td>...</td>\n",
       "      <td>2</td>\n",
       "      <td>0</td>\n",
       "      <td>0</td>\n",
       "      <td>0</td>\n",
       "      <td>5.0</td>\n",
       "      <td>1.0</td>\n",
       "      <td>5.0</td>\n",
       "      <td>1.0</td>\n",
       "      <td>1.0</td>\n",
       "      <td>0.0</td>\n",
       "    </tr>\n",
       "    <tr>\n",
       "      <th>1</th>\n",
       "      <td>13.0</td>\n",
       "      <td>3.0</td>\n",
       "      <td>1.0</td>\n",
       "      <td>1.0</td>\n",
       "      <td>29.0</td>\n",
       "      <td>123.19</td>\n",
       "      <td>0.08</td>\n",
       "      <td>11.92</td>\n",
       "      <td>10.34</td>\n",
       "      <td>1468.01</td>\n",
       "      <td>...</td>\n",
       "      <td>8</td>\n",
       "      <td>1</td>\n",
       "      <td>1</td>\n",
       "      <td>0</td>\n",
       "      <td>13.0</td>\n",
       "      <td>6.0</td>\n",
       "      <td>18.0</td>\n",
       "      <td>11.0</td>\n",
       "      <td>5.0</td>\n",
       "      <td>0.0</td>\n",
       "    </tr>\n",
       "    <tr>\n",
       "      <th>2</th>\n",
       "      <td>24.0</td>\n",
       "      <td>3.0</td>\n",
       "      <td>1.0</td>\n",
       "      <td>2.0</td>\n",
       "      <td>53.0</td>\n",
       "      <td>236.35</td>\n",
       "      <td>0.10</td>\n",
       "      <td>10.50</td>\n",
       "      <td>22.51</td>\n",
       "      <td>2481.67</td>\n",
       "      <td>...</td>\n",
       "      <td>19</td>\n",
       "      <td>0</td>\n",
       "      <td>3</td>\n",
       "      <td>0</td>\n",
       "      <td>11.0</td>\n",
       "      <td>11.0</td>\n",
       "      <td>32.0</td>\n",
       "      <td>21.0</td>\n",
       "      <td>5.0</td>\n",
       "      <td>0.0</td>\n",
       "    </tr>\n",
       "    <tr>\n",
       "      <th>3</th>\n",
       "      <td>65.0</td>\n",
       "      <td>16.0</td>\n",
       "      <td>1.0</td>\n",
       "      <td>6.0</td>\n",
       "      <td>0.0</td>\n",
       "      <td>0.00</td>\n",
       "      <td>0.00</td>\n",
       "      <td>0.00</td>\n",
       "      <td>0.00</td>\n",
       "      <td>0.00</td>\n",
       "      <td>...</td>\n",
       "      <td>0</td>\n",
       "      <td>0</td>\n",
       "      <td>0</td>\n",
       "      <td>0</td>\n",
       "      <td>0.0</td>\n",
       "      <td>0.0</td>\n",
       "      <td>0.0</td>\n",
       "      <td>0.0</td>\n",
       "      <td>31.0</td>\n",
       "      <td>0.0</td>\n",
       "    </tr>\n",
       "    <tr>\n",
       "      <th>4</th>\n",
       "      <td>33.0</td>\n",
       "      <td>10.0</td>\n",
       "      <td>1.0</td>\n",
       "      <td>7.0</td>\n",
       "      <td>142.0</td>\n",
       "      <td>739.74</td>\n",
       "      <td>0.03</td>\n",
       "      <td>30.59</td>\n",
       "      <td>24.18</td>\n",
       "      <td>22627.41</td>\n",
       "      <td>...</td>\n",
       "      <td>26</td>\n",
       "      <td>0</td>\n",
       "      <td>5</td>\n",
       "      <td>0</td>\n",
       "      <td>20.0</td>\n",
       "      <td>17.0</td>\n",
       "      <td>90.0</td>\n",
       "      <td>52.0</td>\n",
       "      <td>19.0</td>\n",
       "      <td>0.0</td>\n",
       "    </tr>\n",
       "  </tbody>\n",
       "</table>\n",
       "<p>5 rows × 22 columns</p>\n",
       "</div>"
      ],
      "text/plain": [
       "    loc  v(g)  ev(g)  iv(g)      n       v     l      d      i         e  ...  \\\n",
       "0   4.0   1.0    1.0    1.0    6.0   15.51  0.40   2.50   6.20     38.77  ...   \n",
       "1  13.0   3.0    1.0    1.0   29.0  123.19  0.08  11.92  10.34   1468.01  ...   \n",
       "2  24.0   3.0    1.0    2.0   53.0  236.35  0.10  10.50  22.51   2481.67  ...   \n",
       "3  65.0  16.0    1.0    6.0    0.0    0.00  0.00   0.00   0.00      0.00  ...   \n",
       "4  33.0  10.0    1.0    7.0  142.0  739.74  0.03  30.59  24.18  22627.41  ...   \n",
       "\n",
       "   lOCode  lOComment  lOBlank  locCodeAndComment  uniq_Op  uniq_Opnd  \\\n",
       "0       2          0        0                  0      5.0        1.0   \n",
       "1       8          1        1                  0     13.0        6.0   \n",
       "2      19          0        3                  0     11.0       11.0   \n",
       "3       0          0        0                  0      0.0        0.0   \n",
       "4      26          0        5                  0     20.0       17.0   \n",
       "\n",
       "   total_Op  total_Opnd  branchCount  defects  \n",
       "0       5.0         1.0          1.0      0.0  \n",
       "1      18.0        11.0          5.0      0.0  \n",
       "2      32.0        21.0          5.0      0.0  \n",
       "3       0.0         0.0         31.0      0.0  \n",
       "4      90.0        52.0         19.0      0.0  \n",
       "\n",
       "[5 rows x 22 columns]"
      ]
     },
     "execution_count": 20,
     "metadata": {},
     "output_type": "execute_result"
    }
   ],
   "source": [
    "df3.head()"
   ]
  },
  {
   "cell_type": "code",
   "execution_count": 21,
   "id": "de511439",
   "metadata": {},
   "outputs": [],
   "source": [
    "x3= df3.iloc[:,:-1]\n",
    "y3=df3['defects']"
   ]
  },
  {
   "cell_type": "code",
   "execution_count": 22,
   "id": "783076eb",
   "metadata": {},
   "outputs": [],
   "source": [
    "x_train3,x_test3,y_train3,y_test3 = train_test_split(x3, y3, test_size = 0.2, random_state=42)"
   ]
  },
  {
   "cell_type": "markdown",
   "id": "4fbf6776",
   "metadata": {},
   "source": [
    "<h2> Confussion Matrix function "
   ]
  },
  {
   "cell_type": "code",
   "execution_count": 23,
   "id": "70cb0d1f",
   "metadata": {},
   "outputs": [],
   "source": [
    "def ConfussionMatrix(Classifier, X_test, y_test):\n",
    "    plot_confusion_matrix(Classifier, X_test, y_test)  \n",
    "    plt.title('Confussion Matrix')\n",
    "    plt.show()"
   ]
  },
  {
   "cell_type": "markdown",
   "id": "6af5da87",
   "metadata": {},
   "source": [
    "<h2>Learning curve function"
   ]
  },
  {
   "cell_type": "code",
   "execution_count": 24,
   "id": "81207563",
   "metadata": {},
   "outputs": [],
   "source": [
    "def LearningCurve(model,X, Y):\n",
    "    train_sizes_model, train_scores_model, valid_scores_model, *_ =learning_curve(model, X, Y,cv=5,\n",
    "                    scoring='accuracy',n_jobs=-1)\n",
    "    fig=plt.figure()\n",
    "    ax=fig.add_axes([0,0,1,1])\n",
    "    ax.scatter(x=train_sizes_model,y= train_scores_model.mean(axis=1), color='b')\n",
    "    ax.scatter(x=train_sizes_model,y=valid_scores_model.mean(axis=1), color='r')\n",
    "    ax.plot(train_sizes_model,train_scores_model.mean(axis=1), color='b')\n",
    "    ax.plot(train_sizes_model,valid_scores_model.mean(axis=1), color='r')\n",
    "    ax.set_xlabel('Data Range')\n",
    "    ax.set_ylabel('Accuracy')\n",
    "    ax.set_title('Learning Curve')\n",
    "    plt.show()"
   ]
  },
  {
   "cell_type": "markdown",
   "id": "088f9b09",
   "metadata": {},
   "source": [
    "<h2>MLP model with 5 hidden layers with number = 6 and relu activation function"
   ]
  },
  {
   "cell_type": "code",
   "execution_count": 25,
   "id": "5c2f9852",
   "metadata": {},
   "outputs": [],
   "source": [
    "clf = MLPClassifier(hidden_layer_sizes=(6,6,6,6,6,6,6,6,6,6), activation='relu', max_iter=500, alpha=0.0001,\n",
    "                     solver='adam', verbose=10,  random_state=21)"
   ]
  },
  {
   "cell_type": "code",
   "execution_count": 26,
   "id": "9af7c5fb",
   "metadata": {},
   "outputs": [
    {
     "name": "stdout",
     "output_type": "stream",
     "text": [
      "Iteration 1, loss = 2.00316106\n",
      "Iteration 2, loss = 0.70860768\n",
      "Iteration 3, loss = 0.66885623\n",
      "Iteration 4, loss = 0.66728742\n",
      "Iteration 5, loss = 0.65924133\n",
      "Iteration 6, loss = 0.65165417\n",
      "Iteration 7, loss = 0.66338097\n",
      "Iteration 8, loss = 0.65617838\n",
      "Iteration 9, loss = 0.64378635\n",
      "Iteration 10, loss = 0.63888388\n",
      "Iteration 11, loss = 0.68898054\n",
      "Iteration 12, loss = 0.92591269\n",
      "Iteration 13, loss = 0.64947625\n",
      "Iteration 14, loss = 0.64738626\n",
      "Iteration 15, loss = 0.64497893\n",
      "Iteration 16, loss = 0.64240017\n",
      "Iteration 17, loss = 0.64151063\n",
      "Iteration 18, loss = 0.64025461\n",
      "Iteration 19, loss = 0.63870893\n",
      "Iteration 20, loss = 0.63740899\n",
      "Iteration 21, loss = 0.63570135\n",
      "Iteration 22, loss = 0.63767235\n",
      "Iteration 23, loss = 0.63486052\n",
      "Iteration 24, loss = 0.63346583\n",
      "Iteration 25, loss = 0.63608787\n",
      "Iteration 26, loss = 0.63468198\n",
      "Iteration 27, loss = 0.63661631\n",
      "Iteration 28, loss = 0.63583529\n",
      "Iteration 29, loss = 0.63891725\n",
      "Iteration 30, loss = 0.63245029\n",
      "Iteration 31, loss = 0.63561653\n",
      "Iteration 32, loss = 0.63218371\n",
      "Iteration 33, loss = 0.63040408\n",
      "Iteration 34, loss = 0.71354645\n",
      "Iteration 35, loss = 0.62969039\n",
      "Iteration 36, loss = 0.62771744\n",
      "Iteration 37, loss = 0.62696103\n",
      "Iteration 38, loss = 0.62686961\n",
      "Iteration 39, loss = 0.62633439\n",
      "Iteration 40, loss = 0.62693045\n",
      "Iteration 41, loss = 0.62568817\n",
      "Iteration 42, loss = 0.62626640\n",
      "Iteration 43, loss = 0.62613380\n",
      "Iteration 44, loss = 0.62520424\n",
      "Iteration 45, loss = 0.62437065\n",
      "Iteration 46, loss = 0.62500905\n",
      "Iteration 47, loss = 0.62408625\n",
      "Iteration 48, loss = 0.62445034\n",
      "Iteration 49, loss = 0.62456002\n",
      "Iteration 50, loss = 0.62416900\n",
      "Iteration 51, loss = 0.62553668\n",
      "Iteration 52, loss = 0.62406518\n",
      "Iteration 53, loss = 0.62446964\n",
      "Iteration 54, loss = 0.62347879\n",
      "Iteration 55, loss = 0.62386382\n",
      "Iteration 56, loss = 0.62253431\n",
      "Iteration 57, loss = 0.62397690\n",
      "Iteration 58, loss = 0.62291986\n",
      "Iteration 59, loss = 0.62382907\n",
      "Iteration 60, loss = 0.62355693\n",
      "Iteration 61, loss = 0.62278135\n",
      "Iteration 62, loss = 0.62212072\n",
      "Iteration 63, loss = 0.62272723\n",
      "Iteration 64, loss = 0.62239076\n",
      "Iteration 65, loss = 0.62178505\n",
      "Iteration 66, loss = 0.62167326\n",
      "Iteration 67, loss = 0.62184851\n",
      "Iteration 68, loss = 0.62253083\n",
      "Iteration 69, loss = 0.62074729\n",
      "Iteration 70, loss = 0.62022244\n",
      "Iteration 71, loss = 0.62128931\n",
      "Iteration 72, loss = 0.62022883\n",
      "Iteration 73, loss = 0.62153819\n",
      "Iteration 74, loss = 0.62081747\n",
      "Iteration 75, loss = 0.62409234\n",
      "Iteration 76, loss = 0.61931872\n",
      "Iteration 77, loss = 0.61886454\n",
      "Iteration 78, loss = 0.61890008\n",
      "Iteration 79, loss = 0.62109322\n",
      "Iteration 80, loss = 0.61868391\n",
      "Iteration 81, loss = 0.61795309\n",
      "Iteration 82, loss = 0.61771645\n",
      "Iteration 83, loss = 0.61780291\n",
      "Iteration 84, loss = 0.61884448\n",
      "Iteration 85, loss = 0.61782800\n",
      "Iteration 86, loss = 0.61836611\n",
      "Iteration 87, loss = 0.61799874\n",
      "Iteration 88, loss = 0.61737413\n",
      "Iteration 89, loss = 0.61807538\n",
      "Iteration 90, loss = 0.61816835\n",
      "Iteration 91, loss = 0.61786727\n",
      "Iteration 92, loss = 0.61734659\n",
      "Iteration 93, loss = 0.61652014\n",
      "Iteration 94, loss = 0.61772298\n",
      "Iteration 95, loss = 0.61726629\n",
      "Iteration 96, loss = 0.61997876\n",
      "Iteration 97, loss = 0.61903355\n",
      "Iteration 98, loss = 0.61623417\n",
      "Iteration 99, loss = 0.61723469\n",
      "Iteration 100, loss = 0.61601758\n",
      "Iteration 101, loss = 0.61808330\n",
      "Iteration 102, loss = 0.61730172\n",
      "Iteration 103, loss = 0.61590482\n",
      "Iteration 104, loss = 0.61559618\n",
      "Iteration 105, loss = 0.61770207\n",
      "Iteration 106, loss = 0.61613987\n",
      "Iteration 107, loss = 0.61579947\n",
      "Iteration 108, loss = 0.61484933\n",
      "Iteration 109, loss = 0.61604310\n",
      "Iteration 110, loss = 0.61873775\n",
      "Iteration 111, loss = 0.61651699\n",
      "Iteration 112, loss = 0.61641824\n",
      "Iteration 113, loss = 0.61663823\n",
      "Iteration 114, loss = 0.61655679\n",
      "Iteration 115, loss = 0.61514058\n",
      "Iteration 116, loss = 0.61474620\n",
      "Iteration 117, loss = 0.61528816\n",
      "Iteration 118, loss = 0.61410193\n",
      "Iteration 119, loss = 0.61412767\n",
      "Iteration 120, loss = 0.61479884\n",
      "Iteration 121, loss = 0.61511694\n",
      "Iteration 122, loss = 0.61685896\n",
      "Iteration 123, loss = 0.61561123\n",
      "Iteration 124, loss = 0.61465436\n",
      "Iteration 125, loss = 0.61355047\n",
      "Iteration 126, loss = 0.61371974\n",
      "Iteration 127, loss = 0.61300689\n",
      "Iteration 128, loss = 0.61533352\n",
      "Iteration 129, loss = 0.61552233\n",
      "Iteration 130, loss = 0.61292940\n",
      "Iteration 131, loss = 0.61610180\n",
      "Iteration 132, loss = 0.61379527\n",
      "Iteration 133, loss = 0.61322348\n",
      "Iteration 134, loss = 0.61308512\n",
      "Iteration 135, loss = 0.61361231\n",
      "Iteration 136, loss = 0.61265364\n",
      "Iteration 137, loss = 0.61326594\n",
      "Iteration 138, loss = 0.61521764\n",
      "Iteration 139, loss = 0.61347336\n",
      "Iteration 140, loss = 0.61208734\n",
      "Iteration 141, loss = 0.61355331\n",
      "Iteration 142, loss = 0.61313119\n",
      "Iteration 143, loss = 0.61214275\n",
      "Iteration 144, loss = 0.61197084\n",
      "Iteration 145, loss = 0.60997391\n",
      "Iteration 146, loss = 0.60986794\n",
      "Iteration 147, loss = 0.61111639\n",
      "Iteration 148, loss = 0.60984791\n",
      "Iteration 149, loss = 0.60961376\n",
      "Iteration 150, loss = 0.60776516\n",
      "Iteration 151, loss = 0.61043725\n",
      "Iteration 152, loss = 0.61021870\n",
      "Iteration 153, loss = 0.60924729\n",
      "Iteration 154, loss = 0.60870454\n",
      "Iteration 155, loss = 0.60882181\n",
      "Iteration 156, loss = 0.60840450\n",
      "Iteration 157, loss = 0.60863806\n",
      "Iteration 158, loss = 0.60830055\n",
      "Iteration 159, loss = 0.60841553\n",
      "Iteration 160, loss = 0.60773086\n",
      "Iteration 161, loss = 0.60781174\n",
      "Training loss did not improve more than tol=0.000100 for 10 consecutive epochs. Stopping.\n"
     ]
    }
   ],
   "source": [
    "clf.fit(x_train3, y_train3)\n",
    "y_predMLP = clf.predict(x_test3)"
   ]
  },
  {
   "cell_type": "code",
   "execution_count": 27,
   "id": "383fd950",
   "metadata": {},
   "outputs": [
    {
     "name": "stdout",
     "output_type": "stream",
     "text": [
      "Accuracy on training set: 0.666\n",
      "Accuracy on test set: 0.667\n"
     ]
    }
   ],
   "source": [
    "print(\"Accuracy on training set: {:.3f}\".format(clf.score(x_train3, y_train3)))\n",
    "print(\"Accuracy on test set: {:.3f}\".format(clf.score(x_test3, y_test3)))"
   ]
  },
  {
   "cell_type": "code",
   "execution_count": 28,
   "id": "5f9b2a7b",
   "metadata": {},
   "outputs": [
    {
     "name": "stdout",
     "output_type": "stream",
     "text": [
      "              precision    recall  f1-score   support\n",
      "\n",
      "           0       0.66      0.70      0.68      1409\n",
      "           1       0.68      0.63      0.65      1399\n",
      "\n",
      "    accuracy                           0.67      2808\n",
      "   macro avg       0.67      0.67      0.67      2808\n",
      "weighted avg       0.67      0.67      0.67      2808\n",
      "\n"
     ]
    }
   ],
   "source": [
    "clfREP1 = classification_report(y_test3, y_predMLP, target_names=[\"0\", \"1\"])\n",
    "print(clfREP1)"
   ]
  },
  {
   "cell_type": "code",
   "execution_count": 29,
   "id": "7ecffbd3",
   "metadata": {},
   "outputs": [
    {
     "data": {
      "image/png": "[encoded data removed]",
      "text/plain": [
       "<Figure size 432x288 with 2 Axes>"
      ]
     },
     "metadata": {
      "needs_background": "light"
     },
     "output_type": "display_data"
    }
   ],
   "source": [
    "ConfussionMatrix(clf, x_test3, y_test3)"
   ]
  },
  {
   "cell_type": "code",
   "execution_count": 30,
   "id": "de524a25",
   "metadata": {},
   "outputs": [
    {
     "data": {
      "image/png": "[encoded data removed]",
      "text/plain": [
       "<Figure size 432x288 with 1 Axes>"
      ]
     },
     "metadata": {
      "needs_background": "light"
     },
     "output_type": "display_data"
    }
   ],
   "source": [
    "LearningCurve(clf, x3, y3)"
   ]
  },
  {
   "cell_type": "markdown",
   "id": "80aaa5fa",
   "metadata": {},
   "source": [
    "<h2>MLP model with 4 hidden layers with weights 5, 10, 15 and 20 and tanh activation function"
   ]
  },
  {
   "cell_type": "code",
   "execution_count": 31,
   "id": "c3307e27",
   "metadata": {},
   "outputs": [
    {
     "name": "stdout",
     "output_type": "stream",
     "text": [
      "Iteration 1, loss = 0.68459159\n",
      "Iteration 2, loss = 0.66078709\n",
      "Iteration 3, loss = 0.66232808\n",
      "Iteration 4, loss = 0.66213283\n",
      "Iteration 5, loss = 0.66112711\n",
      "Iteration 6, loss = 0.66074420\n",
      "Iteration 7, loss = 0.65898758\n",
      "Iteration 8, loss = 0.66007726\n",
      "Iteration 9, loss = 0.65887629\n",
      "Iteration 10, loss = 0.65744346\n",
      "Iteration 11, loss = 0.65517844\n",
      "Iteration 12, loss = 0.65682511\n",
      "Iteration 13, loss = 0.65355708\n",
      "Iteration 14, loss = 0.65261623\n",
      "Iteration 15, loss = 0.66113723\n",
      "Iteration 16, loss = 0.67444835\n",
      "Iteration 17, loss = 0.67337691\n",
      "Iteration 18, loss = 0.66738523\n",
      "Iteration 19, loss = 0.66614558\n",
      "Iteration 20, loss = 0.66351805\n",
      "Iteration 21, loss = 0.66289738\n",
      "Iteration 22, loss = 0.66204481\n",
      "Iteration 23, loss = 0.66159292\n",
      "Iteration 24, loss = 0.66079230\n",
      "Iteration 25, loss = 0.66003126\n",
      "Training loss did not improve more than tol=0.000100 for 10 consecutive epochs. Stopping.\n"
     ]
    }
   ],
   "source": [
    "clf2 = MLPClassifier(hidden_layer_sizes=(5,10,15,20), activation='tanh', max_iter=500, alpha=0.0001,\n",
    "                     solver='adam', verbose=10,  random_state=21)\n",
    "clf2.fit(x_train3, y_train3)\n",
    "y_predMLP2 = clf2.predict(x_test3)"
   ]
  },
  {
   "cell_type": "code",
   "execution_count": 32,
   "id": "8b782b73",
   "metadata": {},
   "outputs": [
    {
     "name": "stdout",
     "output_type": "stream",
     "text": [
      "Accuracy on training set: 0.539\n",
      "Accuracy on test set: 0.534\n"
     ]
    }
   ],
   "source": [
    "print(\"Accuracy on training set: {:.3f}\".format(clf2.score(x_train3, y_train3)))\n",
    "print(\"Accuracy on test set: {:.3f}\".format(clf2.score(x_test3, y_test3)))"
   ]
  },
  {
   "cell_type": "code",
   "execution_count": 33,
   "id": "64e29ce2",
   "metadata": {},
   "outputs": [
    {
     "name": "stdout",
     "output_type": "stream",
     "text": [
      "              precision    recall  f1-score   support\n",
      "\n",
      "           0       0.52      0.95      0.67      1409\n",
      "           1       0.70      0.11      0.19      1399\n",
      "\n",
      "    accuracy                           0.53      2808\n",
      "   macro avg       0.61      0.53      0.43      2808\n",
      "weighted avg       0.61      0.53      0.43      2808\n",
      "\n"
     ]
    }
   ],
   "source": [
    "clfRep = classification_report(y_test3, y_predMLP2, target_names=[\"0\", \"1\"])\n",
    "print(clfRep)"
   ]
  },
  {
   "cell_type": "code",
   "execution_count": 34,
   "id": "6125e07d",
   "metadata": {},
   "outputs": [
    {
     "data": {
      "image/png": "[encoded data removed]",
      "text/plain": [
       "<Figure size 432x288 with 2 Axes>"
      ]
     },
     "metadata": {
      "needs_background": "light"
     },
     "output_type": "display_data"
    }
   ],
   "source": [
    "ConfussionMatrix(clf2, x_test3, y_test3)"
   ]
  },
  {
   "cell_type": "code",
   "execution_count": 35,
   "id": "048c3347",
   "metadata": {},
   "outputs": [
    {
     "data": {
      "image/png": "[encoded data removed]",
      "text/plain": [
       "<Figure size 432x288 with 1 Axes>"
      ]
     },
     "metadata": {
      "needs_background": "light"
     },
     "output_type": "display_data"
    }
   ],
   "source": [
    "LearningCurve(clf2, x3, y3)"
   ]
  },
  {
   "cell_type": "markdown",
   "id": "df6dea36",
   "metadata": {},
   "source": [
    "<h2>MLP model with 8 hidden layers with weights 20, 20, 20, 20, 20, 20, 20 and 20 and logistic activation function"
   ]
  },
  {
   "cell_type": "code",
   "execution_count": 36,
   "id": "0bea910c",
   "metadata": {},
   "outputs": [
    {
     "name": "stdout",
     "output_type": "stream",
     "text": [
      "Iteration 1, loss = 0.70186511\n",
      "Iteration 2, loss = 0.69336821\n",
      "Iteration 3, loss = 0.69330232\n",
      "Iteration 4, loss = 0.69331014\n",
      "Iteration 5, loss = 0.69314032\n",
      "Iteration 6, loss = 0.69366420\n",
      "Iteration 7, loss = 0.69325910\n",
      "Iteration 8, loss = 0.69332186\n",
      "Iteration 9, loss = 0.69328341\n",
      "Iteration 10, loss = 0.69331081\n",
      "Iteration 11, loss = 0.69343833\n",
      "Iteration 12, loss = 0.69334851\n",
      "Iteration 13, loss = 0.69327815\n",
      "Iteration 14, loss = 0.69338697\n",
      "Iteration 15, loss = 0.69332641\n",
      "Iteration 16, loss = 0.69318937\n",
      "Training loss did not improve more than tol=0.000100 for 10 consecutive epochs. Stopping.\n"
     ]
    }
   ],
   "source": [
    "clf3 = MLPClassifier(hidden_layer_sizes=(20,20,20,20,20,20,20,20), activation='logistic', max_iter=500, alpha=0.0001,\n",
    "                     solver='adam', verbose=10,  random_state=21)\n",
    "clf3.fit(x_train3, y_train3)\n",
    "y_predMLP3 = clf3.predict(x_test3)"
   ]
  },
  {
   "cell_type": "code",
   "execution_count": 37,
   "id": "eb077934",
   "metadata": {},
   "outputs": [
    {
     "name": "stdout",
     "output_type": "stream",
     "text": [
      "Accuracy on training set: 0.500\n",
      "Accuracy on test set: 0.502\n"
     ]
    }
   ],
   "source": [
    "print(\"Accuracy on training set: {:.3f}\".format(clf3.score(x_train3, y_train3)))\n",
    "print(\"Accuracy on test set: {:.3f}\".format(clf3.score(x_test3, y_test3)))"
   ]
  },
  {
   "cell_type": "code",
   "execution_count": 38,
   "id": "476114de",
   "metadata": {},
   "outputs": [
    {
     "name": "stdout",
     "output_type": "stream",
     "text": [
      "              precision    recall  f1-score   support\n",
      "\n",
      "           0       0.50      1.00      0.67      1409\n",
      "           1       0.00      0.00      0.00      1399\n",
      "\n",
      "    accuracy                           0.50      2808\n",
      "   macro avg       0.25      0.50      0.33      2808\n",
      "weighted avg       0.25      0.50      0.34      2808\n",
      "\n"
     ]
    }
   ],
   "source": [
    "clfRep3 = classification_report(y_test3, y_predMLP3 , target_names=[\"0\", \"1\"])\n",
    "print(clfRep3)"
   ]
  },
  {
   "cell_type": "code",
   "execution_count": 39,
   "id": "9b835a5a",
   "metadata": {},
   "outputs": [
    {
     "data": {
      "image/png": "[encoded data removed]",
      "text/plain": [
       "<Figure size 432x288 with 2 Axes>"
      ]
     },
     "metadata": {
      "needs_background": "light"
     },
     "output_type": "display_data"
    }
   ],
   "source": [
    "ConfussionMatrix(clf3, x_test3, y_test3)"
   ]
  },
  {
   "cell_type": "code",
   "execution_count": 40,
   "id": "2ab3d22f",
   "metadata": {},
   "outputs": [
    {
     "data": {
      "image/png": "[encoded data removed]",
      "text/plain": [
       "<Figure size 432x288 with 1 Axes>"
      ]
     },
     "metadata": {
      "needs_background": "light"
     },
     "output_type": "display_data"
    }
   ],
   "source": [
    "LearningCurve(clf3, x3, y3)"
   ]
  },
  {
   "cell_type": "markdown",
   "id": "bda9266e",
   "metadata": {},
   "source": [
    "<h2>Comparison between the 3 models"
   ]
  },
  {
   "cell_type": "code",
   "execution_count": 41,
   "id": "0fccbed0",
   "metadata": {},
   "outputs": [
    {
     "data": {
      "text/plain": [
       "<BarContainer object of 3 artists>"
      ]
     },
     "execution_count": 41,
     "metadata": {},
     "output_type": "execute_result"
    },
    {
     "data": {
      "image/png": "[encoded data removed]",
      "text/plain": [
       "<Figure size 720x360 with 1 Axes>"
      ]
     },
     "metadata": {
      "needs_background": "light"
     },
     "output_type": "display_data"
    }
   ],
   "source": [
    "#visualization of the accuracies of the RF models in the 3 methods after the handling the data imbalance \n",
    "data = {'MLP1':0.666, 'MLP2': 0.539, 'MLP3':0.502}\n",
    "names = list(data.keys())\n",
    "acc = list(data.values())\n",
    "  \n",
    "fig = plt.figure(figsize = (10, 5))\n",
    " \n",
    "# creating the bar plot\n",
    "plt.bar(names, acc, color ='maroon',\n",
    "        width = 0.4)"
   ]
  },
  {
   "cell_type": "markdown",
   "id": "b9aa4e37",
   "metadata": {},
   "source": [
    "<h2>MLP model with 10 hidden layers and relu activation function "
   ]
  },
  {
   "cell_type": "code",
   "execution_count": 42,
   "id": "633ac1e0",
   "metadata": {},
   "outputs": [],
   "source": [
    "model = tf.keras.models.Sequential(layers = None, name = None)"
   ]
  },
  {
   "cell_type": "code",
   "execution_count": 43,
   "id": "0f254267",
   "metadata": {},
   "outputs": [],
   "source": [
    "for i in range(1,10):\n",
    "    model.add(tf.keras.layers.Dense(units=300, activation='relu'))"
   ]
  },
  {
   "cell_type": "code",
   "execution_count": 44,
   "id": "539bb8c0",
   "metadata": {},
   "outputs": [],
   "source": [
    "model.compile(optimizer= 'adam', loss = 'binary_crossentropy', metrics= ['accuracy']  )"
   ]
  },
  {
   "cell_type": "code",
   "execution_count": 45,
   "id": "01ea2014",
   "metadata": {},
   "outputs": [
    {
     "name": "stdout",
     "output_type": "stream",
     "text": [
      "Epoch 1/20\n",
      "351/351 [==============================] - 4s 5ms/step - loss: 6.7137 - accuracy: 0.0000e+00\n",
      "Epoch 2/20\n",
      "351/351 [==============================] - 2s 5ms/step - loss: 6.5718 - accuracy: 0.0000e+00\n",
      "Epoch 3/20\n",
      "351/351 [==============================] - 2s 5ms/step - loss: 5.9223 - accuracy: 0.0000e+00\n",
      "Epoch 4/20\n",
      "351/351 [==============================] - 2s 5ms/step - loss: 5.3322 - accuracy: 8.9031e-05\n",
      "Epoch 5/20\n",
      "351/351 [==============================] - 2s 5ms/step - loss: 5.0901 - accuracy: 0.0000e+00\n",
      "Epoch 6/20\n",
      "351/351 [==============================] - 2s 5ms/step - loss: 6.4790 - accuracy: 0.0000e+00\n",
      "Epoch 7/20\n",
      "351/351 [==============================] - 2s 5ms/step - loss: 6.5224 - accuracy: 0.0000e+00\n",
      "Epoch 8/20\n",
      "351/351 [==============================] - 2s 5ms/step - loss: 6.6462 - accuracy: 0.0000e+00\n",
      "Epoch 9/20\n",
      "351/351 [==============================] - 2s 5ms/step - loss: 6.6324 - accuracy: 0.0000e+00\n",
      "Epoch 10/20\n",
      "351/351 [==============================] - 2s 5ms/step - loss: 6.6293 - accuracy: 0.0000e+00\n",
      "Epoch 11/20\n",
      "351/351 [==============================] - 2s 5ms/step - loss: 6.6398 - accuracy: 0.0000e+00\n",
      "Epoch 12/20\n",
      "351/351 [==============================] - 2s 5ms/step - loss: 6.6370 - accuracy: 0.0000e+00\n",
      "Epoch 13/20\n",
      "351/351 [==============================] - 2s 5ms/step - loss: 6.6320 - accuracy: 0.0000e+00\n",
      "Epoch 14/20\n",
      "351/351 [==============================] - 2s 5ms/step - loss: 6.6349 - accuracy: 0.0000e+00\n",
      "Epoch 15/20\n",
      "351/351 [==============================] - 2s 5ms/step - loss: 6.6323 - accuracy: 0.0000e+00\n",
      "Epoch 16/20\n",
      "351/351 [==============================] - 2s 5ms/step - loss: 6.6347 - accuracy: 0.0000e+00\n",
      "Epoch 17/20\n",
      "351/351 [==============================] - 2s 6ms/step - loss: 6.6629 - accuracy: 0.0000e+00\n",
      "Epoch 18/20\n",
      "351/351 [==============================] - 2s 6ms/step - loss: 6.6399 - accuracy: 0.0000e+00\n",
      "Epoch 19/20\n",
      "351/351 [==============================] - 2s 5ms/step - loss: 6.6261 - accuracy: 0.0000e+00\n",
      "Epoch 20/20\n",
      "351/351 [==============================] - 2s 5ms/step - loss: 6.6230 - accuracy: 0.0000e+00\n"
     ]
    },
    {
     "data": {
      "text/plain": [
       "<keras.callbacks.History at 0x1e61cdb2070>"
      ]
     },
     "execution_count": 45,
     "metadata": {},
     "output_type": "execute_result"
    }
   ],
   "source": [
    "model.fit(x_train3, y_train3, batch_size=32, epochs=20)"
   ]
  },
  {
   "cell_type": "markdown",
   "id": "d6b9e37d",
   "metadata": {},
   "source": [
    "<h2>MLP model with 10 hidden layers and tanh activation function "
   ]
  },
  {
   "cell_type": "code",
   "execution_count": 46,
   "id": "5b0c135e",
   "metadata": {},
   "outputs": [],
   "source": [
    "model2 = tf.keras.models.Sequential(layers = None, name = None)"
   ]
  },
  {
   "cell_type": "code",
   "execution_count": 47,
   "id": "639ebfbe",
   "metadata": {},
   "outputs": [],
   "source": [
    "for i in range(1,10):\n",
    "    model2.add(tf.keras.layers.Dense(units=6, activation='tanh'))"
   ]
  },
  {
   "cell_type": "code",
   "execution_count": 48,
   "id": "34b9521a",
   "metadata": {},
   "outputs": [],
   "source": [
    "model2.compile(optimizer= 'adam', loss = 'binary_crossentropy', metrics= ['accuracy']  )"
   ]
  },
  {
   "cell_type": "code",
   "execution_count": 49,
   "id": "6f92fa53",
   "metadata": {},
   "outputs": [
    {
     "name": "stdout",
     "output_type": "stream",
     "text": [
      "Epoch 1/20\n",
      "351/351 [==============================] - 2s 5ms/step - loss: 6.6215 - accuracy: 0.0000e+00\n",
      "Epoch 2/20\n",
      "351/351 [==============================] - 2s 5ms/step - loss: 6.6174 - accuracy: 0.0000e+00\n",
      "Epoch 3/20\n",
      "351/351 [==============================] - 2s 4ms/step - loss: 6.6173 - accuracy: 0.0000e+00\n",
      "Epoch 4/20\n",
      "351/351 [==============================] - 2s 5ms/step - loss: 6.6190 - accuracy: 0.0000e+00\n",
      "Epoch 5/20\n",
      "351/351 [==============================] - 2s 4ms/step - loss: 6.6164 - accuracy: 0.0000e+00\n",
      "Epoch 6/20\n",
      "351/351 [==============================] - 2s 4ms/step - loss: 6.6145 - accuracy: 0.0000e+00\n",
      "Epoch 7/20\n",
      "351/351 [==============================] - 2s 5ms/step - loss: 6.6185 - accuracy: 0.0000e+00\n",
      "Epoch 8/20\n",
      "351/351 [==============================] - 2s 5ms/step - loss: 6.6131 - accuracy: 0.0000e+00\n",
      "Epoch 9/20\n",
      "351/351 [==============================] - 2s 5ms/step - loss: 6.6133 - accuracy: 0.0000e+00\n",
      "Epoch 10/20\n",
      "351/351 [==============================] - 2s 5ms/step - loss: 6.6085 - accuracy: 0.0000e+00\n",
      "Epoch 11/20\n",
      "351/351 [==============================] - 2s 4ms/step - loss: 6.6127 - accuracy: 0.0000e+00\n",
      "Epoch 12/20\n",
      "351/351 [==============================] - 2s 5ms/step - loss: 6.6203 - accuracy: 0.0000e+00\n",
      "Epoch 13/20\n",
      "351/351 [==============================] - 2s 5ms/step - loss: 6.6198 - accuracy: 0.0000e+00\n",
      "Epoch 14/20\n",
      "351/351 [==============================] - 2s 5ms/step - loss: 6.6142 - accuracy: 0.0000e+00\n",
      "Epoch 15/20\n",
      "351/351 [==============================] - 2s 5ms/step - loss: 6.6104 - accuracy: 0.0000e+00\n",
      "Epoch 16/20\n",
      "351/351 [==============================] - 2s 5ms/step - loss: 6.6237 - accuracy: 0.0000e+00\n",
      "Epoch 17/20\n",
      "351/351 [==============================] - 2s 5ms/step - loss: 6.6227 - accuracy: 0.0000e+00\n",
      "Epoch 18/20\n",
      "351/351 [==============================] - 2s 5ms/step - loss: 6.6085 - accuracy: 0.0000e+00\n",
      "Epoch 19/20\n",
      "351/351 [==============================] - 2s 5ms/step - loss: 6.6098 - accuracy: 0.0000e+00\n",
      "Epoch 20/20\n",
      "351/351 [==============================] - 2s 5ms/step - loss: 6.6129 - accuracy: 0.0000e+00\n"
     ]
    },
    {
     "data": {
      "text/plain": [
       "<keras.callbacks.History at 0x1e61af76190>"
      ]
     },
     "execution_count": 49,
     "metadata": {},
     "output_type": "execute_result"
    }
   ],
   "source": [
    "model.fit(x_train3, y_train3, batch_size=32, epochs=20)"
   ]
  }
 ],
 "metadata": {
  "kernelspec": {
   "display_name": "Python 3 (ipykernel)",
   "language": "python",
   "name": "python3"
  },
  "language_info": {
   "codemirror_mode": {
    "name": "ipython",
    "version": 3
   },
   "file_extension": ".py",
   "mimetype": "text/x-python",
   "name": "python",
   "nbconvert_exporter": "python",
   "pygments_lexer": "ipython3",
   "version": "3.9.7"
  }
 },
 "nbformat": 4,
 "nbformat_minor": 5
}
